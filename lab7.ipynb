{
 "cells": [
  {
   "cell_type": "markdown",
   "id": "237fd82e-724e-41d1-81e4-20100e499920",
   "metadata": {},
   "source": [
    "# Лабораторная 7. Сентимент-анализ\n",
    "\n",
    "Задачи классификации текста аналогично обычной задаче классификации предполагает присвоение метки класса некоторому тексту. Здесь можно действовать любыми методами для того, чтобы классифицировать текст, но мы пойдем по следующему пути: векторизуем последовательности (обязательно почитайте про подходы к векторизации, об эмбеддингах) и обучим RNN\n",
    "\n",
    "После обучения базовых моделей разрешается использовать любой другой подход\n",
    "\n",
    "За выполнение базовой работы можно получить 15 баллов, за преодоление отметки в 94% точности классификации еще 5 баллов\n",
    "Удачи!\n",
    "\n",
    "Примечание: обязательно почитайте про лемматизацию, стеминг, TF-IDF и Word2Vec подходы"
   ]
  },
  {
   "cell_type": "code",
   "execution_count": 43,
   "id": "9377bbbd-cca4-45be-a5d6-2999885bf61e",
   "metadata": {
    "tags": []
   },
   "outputs": [],
   "source": [
    "import pandas as pd\n",
    "import numpy as np\n",
    "import matplotlib.pyplot as plt\n",
    "import seaborn as sns\n",
    "from tqdm.auto import tqdm\n",
    "\n",
    "import nltk\n",
    "from nltk.corpus import stopwords\n",
    "from nltk.stem import WordNetLemmatizer\n",
    "import re\n",
    "from collections import Counter  \n",
    "from string import punctuation  \n",
    "from sklearn.metrics import accuracy_score \n",
    "\n",
    "from sklearn.feature_extraction.text import TfidfVectorizer\n",
    "from sklearn.model_selection import train_test_split \n",
    "from sklearn.preprocessing import LabelEncoder\n",
    "\n",
    "from gensim.models import Word2Vec\n",
    "\n",
    "import torch\n",
    "import torch.nn as nn \n",
    "from torch.optim import Adam \n",
    "from torch.utils.data import DataLoader, TensorDataset\n",
    "\n",
    "lemma = WordNetLemmatizer()\n",
    "lb = LabelEncoder()"
   ]
  },
  {
   "cell_type": "code",
   "execution_count": 4,
   "id": "2d79b016-b310-41b8-8a48-85023563689b",
   "metadata": {
    "tags": []
   },
   "outputs": [
    {
     "name": "stderr",
     "output_type": "stream",
     "text": [
      "[nltk_data] Downloading package wordnet to\n",
      "[nltk_data]     C:\\Users\\Мария\\AppData\\Roaming\\nltk_data...\n",
      "[nltk_data]   Package wordnet is already up-to-date!\n",
      "[nltk_data] Downloading package stopwords to\n",
      "[nltk_data]     C:\\Users\\Мария\\AppData\\Roaming\\nltk_data...\n",
      "[nltk_data]   Package stopwords is already up-to-date!\n",
      "[nltk_data] Downloading package punkt to\n",
      "[nltk_data]     C:\\Users\\Мария\\AppData\\Roaming\\nltk_data...\n",
      "[nltk_data]   Package punkt is already up-to-date!\n",
      "[nltk_data] Downloading package punkt_tab to\n",
      "[nltk_data]     C:\\Users\\Мария\\AppData\\Roaming\\nltk_data...\n",
      "[nltk_data]   Package punkt_tab is already up-to-date!\n"
     ]
    },
    {
     "data": {
      "text/plain": [
       "True"
      ]
     },
     "execution_count": 4,
     "metadata": {},
     "output_type": "execute_result"
    }
   ],
   "source": [
    "import nltk\n",
    "nltk.download('wordnet')\n",
    "nltk.download('stopwords')\n",
    "nltk.download('punkt')\n",
    "nltk.download('punkt_tab')"
   ]
  },
  {
   "cell_type": "code",
   "execution_count": 5,
   "id": "f34b5dd3-28b7-4c6c-9bb7-6c2a4f5c3d1f",
   "metadata": {
    "tags": []
   },
   "outputs": [
    {
     "data": {
      "text/html": [
       "<div>\n",
       "<style scoped>\n",
       "    .dataframe tbody tr th:only-of-type {\n",
       "        vertical-align: middle;\n",
       "    }\n",
       "\n",
       "    .dataframe tbody tr th {\n",
       "        vertical-align: top;\n",
       "    }\n",
       "\n",
       "    .dataframe thead th {\n",
       "        text-align: right;\n",
       "    }\n",
       "</style>\n",
       "<table border=\"1\" class=\"dataframe\">\n",
       "  <thead>\n",
       "    <tr style=\"text-align: right;\">\n",
       "      <th></th>\n",
       "      <th>0</th>\n",
       "      <th>1</th>\n",
       "      <th>2</th>\n",
       "      <th>3</th>\n",
       "    </tr>\n",
       "  </thead>\n",
       "  <tbody>\n",
       "    <tr>\n",
       "      <th>0</th>\n",
       "      <td>2401</td>\n",
       "      <td>Borderlands</td>\n",
       "      <td>Positive</td>\n",
       "      <td>im getting on borderlands and i will murder yo...</td>\n",
       "    </tr>\n",
       "    <tr>\n",
       "      <th>1</th>\n",
       "      <td>2401</td>\n",
       "      <td>Borderlands</td>\n",
       "      <td>Positive</td>\n",
       "      <td>I am coming to the borders and I will kill you...</td>\n",
       "    </tr>\n",
       "    <tr>\n",
       "      <th>2</th>\n",
       "      <td>2401</td>\n",
       "      <td>Borderlands</td>\n",
       "      <td>Positive</td>\n",
       "      <td>im getting on borderlands and i will kill you ...</td>\n",
       "    </tr>\n",
       "    <tr>\n",
       "      <th>3</th>\n",
       "      <td>2401</td>\n",
       "      <td>Borderlands</td>\n",
       "      <td>Positive</td>\n",
       "      <td>im coming on borderlands and i will murder you...</td>\n",
       "    </tr>\n",
       "    <tr>\n",
       "      <th>4</th>\n",
       "      <td>2401</td>\n",
       "      <td>Borderlands</td>\n",
       "      <td>Positive</td>\n",
       "      <td>im getting on borderlands 2 and i will murder ...</td>\n",
       "    </tr>\n",
       "  </tbody>\n",
       "</table>\n",
       "</div>"
      ],
      "text/plain": [
       "      0            1         2  \\\n",
       "0  2401  Borderlands  Positive   \n",
       "1  2401  Borderlands  Positive   \n",
       "2  2401  Borderlands  Positive   \n",
       "3  2401  Borderlands  Positive   \n",
       "4  2401  Borderlands  Positive   \n",
       "\n",
       "                                                   3  \n",
       "0  im getting on borderlands and i will murder yo...  \n",
       "1  I am coming to the borders and I will kill you...  \n",
       "2  im getting on borderlands and i will kill you ...  \n",
       "3  im coming on borderlands and i will murder you...  \n",
       "4  im getting on borderlands 2 and i will murder ...  "
      ]
     },
     "execution_count": 5,
     "metadata": {},
     "output_type": "execute_result"
    }
   ],
   "source": [
    "df = pd.read_csv('twitter_training.csv', header=None)\n",
    "# Просмотр первых 5 строк данных\n",
    "df.head()"
   ]
  },
  {
   "cell_type": "code",
   "execution_count": 6,
   "id": "b53e720b-7b9d-4638-a23a-bf05fe7cc116",
   "metadata": {
    "tags": []
   },
   "outputs": [
    {
     "data": {
      "text/plain": [
       "array(['Amazon', 'ApexLegends', 'AssassinsCreed', 'Battlefield',\n",
       "       'Borderlands', 'CS-GO', 'CallOfDuty', 'CallOfDutyBlackopsColdWar',\n",
       "       'Cyberpunk2077', 'Dota2', 'FIFA', 'Facebook', 'Fortnite', 'Google',\n",
       "       'GrandTheftAuto(GTA)', 'Hearthstone', 'HomeDepot',\n",
       "       'LeagueOfLegends', 'MaddenNFL', 'Microsoft', 'NBA2K', 'Nvidia',\n",
       "       'Overwatch', 'PlayStation5(PS5)',\n",
       "       'PlayerUnknownsBattlegrounds(PUBG)', 'RedDeadRedemption(RDR)',\n",
       "       'TomClancysGhostRecon', 'TomClancysRainbowSix', 'Verizon',\n",
       "       'WorldOfCraft', 'Xbox(Xseries)', 'johnson&johnson'], dtype=object)"
      ]
     },
     "execution_count": 6,
     "metadata": {},
     "output_type": "execute_result"
    }
   ],
   "source": [
    "np.unique(df[1])"
   ]
  },
  {
   "cell_type": "code",
   "execution_count": 7,
   "id": "3ff77261-3daa-46ac-a45c-a7d5c874b23f",
   "metadata": {
    "tags": []
   },
   "outputs": [],
   "source": [
    "# Удаление первого столбца\n",
    "df = df.drop(0, axis=1)"
   ]
  },
  {
   "cell_type": "code",
   "execution_count": 8,
   "id": "8a09cb08-b4ea-48db-ab1e-d4bbd6ac507e",
   "metadata": {
    "tags": []
   },
   "outputs": [],
   "source": [
    "# Переименовываем столбцы\n",
    "df = df.rename(columns={1: \"Feature2\", 3: \"Feature1\", 2: \"labels\"})"
   ]
  },
  {
   "cell_type": "code",
   "execution_count": 9,
   "id": "df932029-8aa9-4e5a-807b-ed4c731092fc",
   "metadata": {
    "tags": []
   },
   "outputs": [
    {
     "data": {
      "text/html": [
       "<div>\n",
       "<style scoped>\n",
       "    .dataframe tbody tr th:only-of-type {\n",
       "        vertical-align: middle;\n",
       "    }\n",
       "\n",
       "    .dataframe tbody tr th {\n",
       "        vertical-align: top;\n",
       "    }\n",
       "\n",
       "    .dataframe thead th {\n",
       "        text-align: right;\n",
       "    }\n",
       "</style>\n",
       "<table border=\"1\" class=\"dataframe\">\n",
       "  <thead>\n",
       "    <tr style=\"text-align: right;\">\n",
       "      <th></th>\n",
       "      <th>Feature2</th>\n",
       "      <th>labels</th>\n",
       "      <th>Feature1</th>\n",
       "    </tr>\n",
       "  </thead>\n",
       "  <tbody>\n",
       "    <tr>\n",
       "      <th>0</th>\n",
       "      <td>Borderlands</td>\n",
       "      <td>Positive</td>\n",
       "      <td>im getting on borderlands and i will murder yo...</td>\n",
       "    </tr>\n",
       "    <tr>\n",
       "      <th>1</th>\n",
       "      <td>Borderlands</td>\n",
       "      <td>Positive</td>\n",
       "      <td>I am coming to the borders and I will kill you...</td>\n",
       "    </tr>\n",
       "    <tr>\n",
       "      <th>2</th>\n",
       "      <td>Borderlands</td>\n",
       "      <td>Positive</td>\n",
       "      <td>im getting on borderlands and i will kill you ...</td>\n",
       "    </tr>\n",
       "    <tr>\n",
       "      <th>3</th>\n",
       "      <td>Borderlands</td>\n",
       "      <td>Positive</td>\n",
       "      <td>im coming on borderlands and i will murder you...</td>\n",
       "    </tr>\n",
       "    <tr>\n",
       "      <th>4</th>\n",
       "      <td>Borderlands</td>\n",
       "      <td>Positive</td>\n",
       "      <td>im getting on borderlands 2 and i will murder ...</td>\n",
       "    </tr>\n",
       "  </tbody>\n",
       "</table>\n",
       "</div>"
      ],
      "text/plain": [
       "      Feature2    labels                                           Feature1\n",
       "0  Borderlands  Positive  im getting on borderlands and i will murder yo...\n",
       "1  Borderlands  Positive  I am coming to the borders and I will kill you...\n",
       "2  Borderlands  Positive  im getting on borderlands and i will kill you ...\n",
       "3  Borderlands  Positive  im coming on borderlands and i will murder you...\n",
       "4  Borderlands  Positive  im getting on borderlands 2 and i will murder ..."
      ]
     },
     "execution_count": 9,
     "metadata": {},
     "output_type": "execute_result"
    }
   ],
   "source": [
    "df.head()"
   ]
  },
  {
   "cell_type": "code",
   "execution_count": 10,
   "id": "f4865e27-ddc1-4185-9b9e-a8608659a8e9",
   "metadata": {
    "tags": []
   },
   "outputs": [
    {
     "data": {
      "text/html": [
       "<div>\n",
       "<style scoped>\n",
       "    .dataframe tbody tr th:only-of-type {\n",
       "        vertical-align: middle;\n",
       "    }\n",
       "\n",
       "    .dataframe tbody tr th {\n",
       "        vertical-align: top;\n",
       "    }\n",
       "\n",
       "    .dataframe thead th {\n",
       "        text-align: right;\n",
       "    }\n",
       "</style>\n",
       "<table border=\"1\" class=\"dataframe\">\n",
       "  <thead>\n",
       "    <tr style=\"text-align: right;\">\n",
       "      <th></th>\n",
       "      <th>labels</th>\n",
       "      <th>tweets</th>\n",
       "    </tr>\n",
       "  </thead>\n",
       "  <tbody>\n",
       "    <tr>\n",
       "      <th>0</th>\n",
       "      <td>Positive</td>\n",
       "      <td>im getting on borderlands and i will murder yo...</td>\n",
       "    </tr>\n",
       "    <tr>\n",
       "      <th>1</th>\n",
       "      <td>Positive</td>\n",
       "      <td>I am coming to the borders and I will kill you...</td>\n",
       "    </tr>\n",
       "    <tr>\n",
       "      <th>2</th>\n",
       "      <td>Positive</td>\n",
       "      <td>im getting on borderlands and i will kill you ...</td>\n",
       "    </tr>\n",
       "    <tr>\n",
       "      <th>3</th>\n",
       "      <td>Positive</td>\n",
       "      <td>im coming on borderlands and i will murder you...</td>\n",
       "    </tr>\n",
       "    <tr>\n",
       "      <th>4</th>\n",
       "      <td>Positive</td>\n",
       "      <td>im getting on borderlands 2 and i will murder ...</td>\n",
       "    </tr>\n",
       "  </tbody>\n",
       "</table>\n",
       "</div>"
      ],
      "text/plain": [
       "     labels                                             tweets\n",
       "0  Positive  im getting on borderlands and i will murder yo...\n",
       "1  Positive  I am coming to the borders and I will kill you...\n",
       "2  Positive  im getting on borderlands and i will kill you ...\n",
       "3  Positive  im coming on borderlands and i will murder you...\n",
       "4  Positive  im getting on borderlands 2 and i will murder ..."
      ]
     },
     "execution_count": 10,
     "metadata": {},
     "output_type": "execute_result"
    }
   ],
   "source": [
    "# Объединение текстовых данных из двух столбцов в один\n",
    "df[\"tweets\"]= df[\"Feature1\"].astype(str) +\" \"+ df[\"Feature2\"].astype(str)\n",
    "# Удаление исходных текстовых столбцов\n",
    "df= df.drop([\"Feature1\",\"Feature2\"],axis=1)\n",
    "df.head()"
   ]
  },
  {
   "cell_type": "code",
   "execution_count": 11,
   "id": "3dfd36ef-dd09-4466-8a13-31a89fdc114d",
   "metadata": {
    "tags": []
   },
   "outputs": [
    {
     "data": {
      "text/plain": [
       "{'Irrelevant': 0, 'Negative': 1, 'Neutral': 2, 'Positive': 3}"
      ]
     },
     "execution_count": 11,
     "metadata": {},
     "output_type": "execute_result"
    }
   ],
   "source": [
    "# Создание словаря для кодирования меток классов\n",
    "df_labels = {key : value for value , key in enumerate(np.unique(df['labels']))}\n",
    "df_labels"
   ]
  },
  {
   "cell_type": "code",
   "execution_count": 12,
   "id": "52c234fc-dae7-40e0-a9d0-aadafb8795fe",
   "metadata": {
    "tags": []
   },
   "outputs": [],
   "source": [
    "# Функция для получения числовой метки по тексту\n",
    "def getlabel(n):\n",
    "    for x, y in df_labels.items():\n",
    "        if y == n:\n",
    "            return x"
   ]
  },
  {
   "cell_type": "code",
   "execution_count": 13,
   "id": "43c83fa9-5a14-466a-aebd-c1a8ef4ed15b",
   "metadata": {
    "tags": []
   },
   "outputs": [],
   "source": [
    "# Функция для предобработки текста\n",
    "def DataPrep(text):\n",
    "    text = re.sub('<.*?>', '', text)  # Удаляем HTML теги\n",
    "    text = re.sub(r'\\d+', '', text)  # Удаляем числа\n",
    "    text = re.sub(r'[^\\w\\s]', '', text)  # Удаляем специальные символы\n",
    "    text = re.sub(r'http\\S+', '', text)  # Удаляем URL\n",
    "    text = re.sub(r'@\\S+', '', text)  # Удаляем упоминания\n",
    "    text = re.sub(r'#\\S+', '', text)  # Удаляем хештеги\n",
    "\n",
    "    # Токенизация\n",
    "    tokens = nltk.word_tokenize(text)\n",
    "\n",
    "    # Удаляем пунктуацию\n",
    "    punc = list(punctuation)\n",
    "    words = [word for word in tokens if word not in punc]\n",
    "\n",
    "    # Удаление стоп-слова\n",
    "    stop_words = set(stopwords.words('english'))\n",
    "    words = [word for word in words if not word.lower() in stop_words]\n",
    "\n",
    "    # Лемматизация\n",
    "    words = [lemma.lemmatize(word) for word in words]\n",
    "\n",
    "    # Возвращение слова обратно в строку\n",
    "    text = ' '.join(words)\n",
    "\n",
    "    return text\n"
   ]
  },
  {
   "cell_type": "code",
   "execution_count": 14,
   "id": "97998a97-bb73-40a9-b346-238fa9de85ff",
   "metadata": {
    "tags": []
   },
   "outputs": [],
   "source": [
    "# Применение предобработки к каждому твиту\n",
    "df['cleaned_tweets'] = df['tweets'].apply(DataPrep)"
   ]
  },
  {
   "cell_type": "code",
   "execution_count": 15,
   "id": "1a544e64-ca2b-4733-bdee-52857485ec43",
   "metadata": {
    "tags": []
   },
   "outputs": [
    {
     "name": "stdout",
     "output_type": "stream",
     "text": [
      "There are around 11865 duplicated tweets, we will remove them.\n"
     ]
    }
   ],
   "source": [
    "# Вывод количества дубликатов\n",
    "print(f'There are around {int(df[\"cleaned_tweets\"].duplicated().sum())} duplicated tweets, we will remove them.')\n",
    "\n",
    "# Удаление дубликатов\n",
    "df.drop_duplicates(\"cleaned_tweets\", inplace=True)\n",
    "\n",
    "# Добавление столбца с длиной твитов\n",
    "df['tweet_len'] = [len(text.split()) for text in df.cleaned_tweets]\n",
    "\n",
    "# Удаление твитов с длиной больше 99.5% квантиля\n",
    "df = df[df['tweet_len'] < df['tweet_len'].quantile(0.995)]"
   ]
  },
  {
   "cell_type": "code",
   "execution_count": 16,
   "id": "4e2ba871-5e42-4f6e-bfa2-df3bbae1df9d",
   "metadata": {
    "tags": []
   },
   "outputs": [
    {
     "name": "stderr",
     "output_type": "stream",
     "text": [
      "C:\\Users\\Мария\\AppData\\Local\\Temp\\ipykernel_16352\\3335825041.py:3: FutureWarning: \n",
      "\n",
      "Passing `palette` without assigning `hue` is deprecated and will be removed in v0.14.0. Assign the `x` variable to `hue` and set `legend=False` for the same effect.\n",
      "\n",
      "  ax = sns.countplot(x='tweet_len', data=df[(df['tweet_len'] <= 1000) & (df['tweet_len'] > 10)], palette='Blues_r')\n"
     ]
    },
    {
     "data": {
      "image/png": "[encoded data removed]",
      "text/plain": [
       "<Figure size 1600x500 with 1 Axes>"
      ]
     },
     "metadata": {},
     "output_type": "display_data"
    }
   ],
   "source": [
    "# Визуализация распределения длины твитов\n",
    "plt.figure(figsize=(16, 5))\n",
    "ax = sns.countplot(x='tweet_len', data=df[(df['tweet_len'] <= 1000) & (df['tweet_len'] > 10)], palette='Blues_r')\n",
    "plt.title('Count of tweets with high number of words', fontsize=25)\n",
    "plt.yticks([])\n",
    "ax.bar_label(ax.containers[0])\n",
    "plt.ylabel('count')\n",
    "plt.xlabel('')\n",
    "plt.show()"
   ]
  },
  {
   "cell_type": "markdown",
   "id": "e0d38d93-ce3b-41b9-b15c-f5a23cff226e",
   "metadata": {},
   "source": [
    "## Обучаем модели"
   ]
  },
  {
   "cell_type": "code",
   "execution_count": 17,
   "id": "7d6956de-978a-4baf-846b-ab6369b08565",
   "metadata": {
    "tags": []
   },
   "outputs": [],
   "source": [
    "# Определение максимальной длины твитов\n",
    "MAX_LEN = np.max(df['tweet_len'])\n"
   ]
  },
  {
   "cell_type": "code",
   "execution_count": 18,
   "id": "bb165366-48d9-4c16-9523-4a268fffdc74",
   "metadata": {
    "tags": []
   },
   "outputs": [],
   "source": [
    "# Функция для подготовки текстовых данных для ввода в LSTM\n",
    "def lstm_prep(column, seq_len):\n",
    "    # Создаем корпус слов из всех текстов в колонке\n",
    "    corpus = [word for text in column for word in text.split()]  # Объединяем слова из всех текстов\n",
    "    words_count = Counter(corpus)  # Подсчитываем количество каждого слова\n",
    "    sorted_words = words_count.most_common()  # Сортируем слова по убыванию частоты\n",
    "    vocab_to_int = {w: i + 1 for i, (w, c) in enumerate(sorted_words)}  # Сопоставляем каждому слову уникальный индекс\n",
    "\n",
    "    text_int = []  # Список для хранения текстов, преобразованных в индексы\n",
    "\n",
    "    # Преобразуем каждый текст в последовательность индексов\n",
    "    for text in column:\n",
    "        token = [vocab_to_int[word] for word in text.split()]  # Заменяем слова их индексами\n",
    "        text_int.append(token)  # Сохраняем последовательность индексов\n",
    "\n",
    "    # Инициализируем массив для хранения последовательностей заданной длины\n",
    "    features = np.zeros((len(text_int), seq_len), dtype=int)  # Массив нулей размером (количество текстов, seq_len)\n",
    "    for idx, y in tqdm(enumerate(text_int)):  # Проходим по преобразованным текстам с индексацией\n",
    "        if len(y) <= seq_len:  # Если длина текста меньше или равна заданной длине\n",
    "            zeros = list(np.zeros(seq_len - len(y)))  # Создаем список из недостающих нулей\n",
    "            new = zeros + y  # Дополняем текст нулями в начале\n",
    "        else:  # Если текст длиннее, чем заданная длина\n",
    "            new = y[:seq_len]  # Усекаем текст до нужной длины\n",
    "\n",
    "        features[idx, :] = np.array(new)  # Заполняем массив подготовленной последовательностью\n",
    "\n",
    "    # Возвращаем отсортированный список слов и подготовленные данные\n",
    "    return sorted_words, features\n"
   ]
  },
  {
   "cell_type": "code",
   "execution_count": 19,
   "id": "de28571c-3aec-4d38-b01c-ccd6f43d2400",
   "metadata": {
    "tags": []
   },
   "outputs": [
    {
     "data": {
      "application/vnd.jupyter.widget-view+json": {
       "model_id": "2ebf1a352b164f4693e0b6210cecf285",
       "version_major": 2,
       "version_minor": 0
      },
      "text/plain": [
       "0it [00:00, ?it/s]"
      ]
     },
     "metadata": {},
     "output_type": "display_data"
    }
   ],
   "source": [
    "# Подготавка данных для LSTM\n",
    "VOCAB, tokenized_column = lstm_prep(df['cleaned_tweets'], MAX_LEN)"
   ]
  },
  {
   "cell_type": "code",
   "execution_count": 20,
   "id": "3bc11ded-cc0a-40df-84e1-bec1e54721ee",
   "metadata": {
    "tags": []
   },
   "outputs": [
    {
     "data": {
      "text/plain": [
       "[('game', 8616),\n",
       " ('like', 4206),\n",
       " ('Im', 3715),\n",
       " ('Microsoft', 3635),\n",
       " ('Facebook', 3633),\n",
       " ('get', 3621),\n",
       " ('Amazon', 3456),\n",
       " ('Verizon', 3411),\n",
       " ('Google', 3266),\n",
       " ('Battlefield', 3133)]"
      ]
     },
     "execution_count": 20,
     "metadata": {},
     "output_type": "execute_result"
    }
   ],
   "source": [
    "# Вывод первых 10 слов из словаря\n",
    "VOCAB[:10]"
   ]
  },
  {
   "cell_type": "code",
   "execution_count": 21,
   "id": "b811eee9-dffa-4a38-96f4-76d97971267d",
   "metadata": {
    "tags": []
   },
   "outputs": [
    {
     "data": {
      "text/plain": [
       "(62400, 34)"
      ]
     },
     "execution_count": 21,
     "metadata": {},
     "output_type": "execute_result"
    }
   ],
   "source": [
    "# Получение размеров токенизированного столбца\n",
    "tokenized_column.shape\n"
   ]
  },
  {
   "cell_type": "code",
   "execution_count": 22,
   "id": "129b0be6-eac8-4c99-b48b-47b770eb3720",
   "metadata": {
    "tags": []
   },
   "outputs": [],
   "source": [
    "# Функция для визуализации самых частотных слов\n",
    "def most_common_words(vocab):\n",
    "    keys = []  # Список для хранения слов из словаря\n",
    "    values = []  # Список для хранения частоты появления этих слов\n",
    "    for key, value in vocab[:30]:  # Берем первые 30 слов из списка наиболее частотных\n",
    "        keys.append(key)  # Добавляем слово в список ключей\n",
    "        values.append(value)  # Добавляем частоту в список значений\n",
    "\n",
    "    # Настройка параметров визуализации\n",
    "    plt.figure(figsize=(15, 5))  # Задаем размеры графика (ширина, высота)\n",
    "    ax = plt.bar(keys, values)  # Создаем столбчатую диаграмму с данными\n",
    "    plt.title('Top 30 Most Common Words', size=25)  # Устанавливаем заголовок графика\n",
    "    plt.ylabel(\"Word Frequency\")  # Добавляем подпись к оси Y\n",
    "    plt.xticks(rotation=45)  # Поворачиваем подписи на оси X для лучшей читаемости\n",
    "    plt.subplots_adjust(bottom=0.15)  # Увеличиваем отступ снизу для подписей слов\n",
    "    plt.show()  # Отображаем построенный график\n"
   ]
  },
  {
   "cell_type": "code",
   "execution_count": 26,
   "id": "20803121",
   "metadata": {},
   "outputs": [
    {
     "data": {
      "image/png": "[encoded data removed]",
      "text/plain": [
       "<Figure size 1500x500 with 1 Axes>"
      ]
     },
     "metadata": {},
     "output_type": "display_data"
    }
   ],
   "source": [
    "# Визуализируем самые распространенные слова\n",
    "most_common_words(VOCAB)"
   ]
  },
  {
   "cell_type": "code",
   "execution_count": 28,
   "id": "d44bb059-aaab-4767-9307-7fcb8fd2380d",
   "metadata": {
    "tags": []
   },
   "outputs": [],
   "source": [
    "# Определение X и y для обучения\n",
    "X = tokenized_column\n",
    "y = lb.fit_transform(df['labels'].values)  # Кодируем метки классов"
   ]
  },
  {
   "cell_type": "code",
   "execution_count": 29,
   "id": "4099d1d5-c88d-4c49-b0f0-32d421a5c2ec",
   "metadata": {
    "tags": []
   },
   "outputs": [],
   "source": [
    "# Разделение данных на обучающую и валидационную выборки\n",
    "X_train, X_val, Y_train, Y_val = train_test_split(X, y, train_size=0.85, random_state=42)"
   ]
  },
  {
   "cell_type": "code",
   "execution_count": 30,
   "id": "e4fc9f98-8aba-4af7-80c6-f16a71227b7c",
   "metadata": {
    "tags": []
   },
   "outputs": [],
   "source": [
    "# Создание датасета для PyTorch\n",
    "train_data = TensorDataset(torch.from_numpy(X_train), torch.LongTensor(Y_train))\n",
    "val_data = TensorDataset(torch.from_numpy(X_val), torch.LongTensor(Y_val))"
   ]
  },
  {
   "cell_type": "code",
   "execution_count": 31,
   "id": "36540bdd-1e95-46ee-895d-51d3826f4f01",
   "metadata": {
    "tags": []
   },
   "outputs": [],
   "source": [
    " # Устанавливаем размер батча\n",
    "BATCH_SIZE = 64\n",
    "\n",
    "# Создаем загрузчики данных для обучающей и валидационной выборок\n",
    "train_dataloader = DataLoader(\n",
    "    dataset=train_data,\n",
    "    batch_size=BATCH_SIZE,\n",
    "    shuffle=True  # Перемешиваем данные\n",
    ")\n",
    "val_dataloader = DataLoader(\n",
    "    dataset=val_data,\n",
    "    batch_size=BATCH_SIZE,\n",
    "    shuffle=False  # Не перемешиваем валидационные данные\n",
    ")"
   ]
  },
  {
   "cell_type": "code",
   "execution_count": 32,
   "id": "40c5a08c-d8de-4172-ad56-4c573ada9189",
   "metadata": {
    "tags": []
   },
   "outputs": [],
   "source": [
    "# Устанавливаем размерность эмбеддингов\n",
    "EMBEDDING_DIM = 200"
   ]
  },
  {
   "cell_type": "code",
   "execution_count": 33,
   "id": "c164d0ba-a694-4cf9-aca0-c0ed5fee392d",
   "metadata": {
    "tags": []
   },
   "outputs": [],
   "source": [
    "Word2vec_train_data = list(map(lambda x: x.split(), df['cleaned_tweets']))  # Подготовка данные для Word2Vec\n",
    "word2vec_model = Word2Vec(Word2vec_train_data, vector_size=EMBEDDING_DIM)  # Обучение модели Word2Vec\n"
   ]
  },
  {
   "cell_type": "code",
   "execution_count": 34,
   "id": "ad971995-31e4-45e6-8cda-fbe9c4952d19",
   "metadata": {
    "tags": []
   },
   "outputs": [],
   "source": [
    "# Функция для создания матрицы весов эмбеддингов на основе предобученной модели\n",
    "def weight_matrix(model, vocab):\n",
    "    vocab_size = len(vocab) + 1  # Определяем размер словаря (включая индекс 0 для пустых значений)\n",
    "    embedding_matrix = np.zeros((vocab_size, EMBEDDING_DIM))  # Инициализируем матрицу нулей для эмбеддингов\n",
    "    for word, token in vocab:  # Перебираем каждое слово и его индекс из словаря\n",
    "        if model.wv.__contains__(word):  # Проверяем, есть ли текущее слово в предобученной модели\n",
    "            embedding_matrix[token] = model.wv.__getitem__(word)  # Копируем эмбеддинг слова в соответствующую строку матрицы\n",
    "    return embedding_matrix  # Возвращаем готовую матрицу эмбеддингов\n"
   ]
  },
  {
   "cell_type": "code",
   "execution_count": 35,
   "id": "6a85a4bf-c99a-4d24-ba23-81b5371608c4",
   "metadata": {
    "tags": []
   },
   "outputs": [
    {
     "name": "stdout",
     "output_type": "stream",
     "text": [
      "Embedding Matrix Shape: (43365, 200)\n"
     ]
    }
   ],
   "source": [
    "# Получаем матрицу весов эмбеддингов\n",
    "embedding_vec = weight_matrix(word2vec_model, VOCAB)\n",
    "print(\"Embedding Matrix Shape:\", embedding_vec.shape)  # Вывод форму матрицы весов"
   ]
  },
  {
   "cell_type": "code",
   "execution_count": 36,
   "id": "f0e15256-74c3-4963-8bb3-da6c9cd7e8b3",
   "metadata": {
    "tags": []
   },
   "outputs": [],
   "source": [
    "# Функция для подсчета параметров модели\n",
    "def param_count(model):\n",
    "    params = [p.numel() for p in model.parameters() if p.requires_grad]  # Получаем количество параметров, требующих градиента\n",
    "    print('The Total number of parameters in the model : ', sum(params))  # Выводим общее количество параметров"
   ]
  },
  {
   "cell_type": "code",
   "execution_count": 37,
   "id": "8664ab03-0749-4896-8f15-8d152302cc70",
   "metadata": {
    "tags": []
   },
   "outputs": [],
   "source": [
    "# Определяем архитектуру нейронной сети\n",
    "class Model(nn.Module):\n",
    "    def __init__(self, vocab_size, embedding_dim, num_layers, hidden_dim, out_channels, bidirectional, device='cpu'):\n",
    "        super().__init__()  # Инициализируем родительский класс nn.Module\n",
    "        print(device)  # Выводим используемое устройство (CPU или GPU)\n",
    "\n",
    "        # Параметры модели\n",
    "        self.no_layers = num_layers  # Количество слоев в LSTM\n",
    "        self.hidden_dim = hidden_dim  # Размер скрытого слоя LSTM\n",
    "        self.out_channels = out_channels  # Количество выходных нейронов (например, для классификации)\n",
    "        self.num_directions = 2 if bidirectional else 1  # Учитываем количество направлений (1 для обычного, 2 для bidirectional)\n",
    "        self.device = device  # Сохраняем устройство (CPU/GPU)\n",
    "\n",
    "        # Слой эмбеддингов\n",
    "        self.embedding = nn.Embedding(vocab_size, embedding_dim)  # Создаем слой для преобразования индексов в эмбеддинги\n",
    "        self.embedding = self.embedding.to(device)  # Переносим слой эмбеддингов на устройство\n",
    "\n",
    "        # Слой LSTM\n",
    "        self.lstm = nn.LSTM(\n",
    "            embedding_dim,  # Размер входных данных (эмбеддинги)\n",
    "            hidden_dim,  # Размер скрытого слоя\n",
    "            num_layers,  # Количество слоев LSTM\n",
    "            dropout=0.5,  # Dropout для регуляризации\n",
    "            bidirectional=bidirectional,  # Использовать ли двунаправленную LSTM\n",
    "            batch_first=True  # Указываем, что первым измерением идет размер батча\n",
    "        )\n",
    "        self.lstm = self.lstm.to(device)  # Переносим LSTM на устройство\n",
    "\n",
    "        # Полносвязный слой\n",
    "        self.fc = nn.Linear(hidden_dim * self.num_directions, out_channels)  # Выходной слой для классификации\n",
    "        self.fc = self.fc.to(device)  # Переносим слой на устройство\n",
    "\n",
    "    # Метод прямого прохода через модель\n",
    "    def forward(self, x):\n",
    "        # Инициализация скрытых состояний и ячеек памяти LSTM\n",
    "        h0 = torch.zeros((self.no_layers * self.num_directions, x.size(0), self.hidden_dim)).to(self.device)  # h_0\n",
    "        c0 = torch.zeros((self.no_layers * self.num_directions, x.size(0), self.hidden_dim)).to(self.device)  # c_0\n",
    "\n",
    "        # Преобразование входных данных через слой эмбеддингов\n",
    "        embedded = self.embedding(x)  # Получаем эмбеддинги для входных данных\n",
    "\n",
    "        # Пропуск данных через слой LSTM\n",
    "        out, _ = self.lstm(embedded, (h0, c0))  # Получаем выходы и скрытые состояния LSTM\n",
    "\n",
    "        # Извлечение последнего выхода LSTM\n",
    "        out = out[:, -1, :]  # Берем выход по последней временной точке для каждого примера\n",
    "\n",
    "        # Пропуск через полносвязный слой\n",
    "        out = self.fc(out)  # Получаем предсказания модели\n",
    "\n",
    "        return out  # Возвращаем выход модели\n"
   ]
  },
  {
   "cell_type": "code",
   "execution_count": 38,
   "id": "be721827-b1f7-4987-8b09-9f29cdcb280f",
   "metadata": {
    "tags": []
   },
   "outputs": [
    {
     "name": "stdout",
     "output_type": "stream",
     "text": [
      "cpu\n"
     ]
    }
   ],
   "source": [
    "# Определение параметров модели\n",
    "VOCAB_SIZE = len(VOCAB) + 1  # Размер словаря (учитываем индекс 0 для пустых значений)\n",
    "NUM_LAYERS = 2  # Количество слоев в LSTM\n",
    "OUT_CHANNELS = 4  # Количество выходных классов для классификации\n",
    "HIDDEN_DIM = 256  # Размер скрытого слоя LSTM\n",
    "BIDIRECTIONAL = True  # Использовать ли двунаправленный LSTM\n",
    "DEVICE = 'cuda' if torch.cuda.is_available() else 'cpu'  # Определяем устройство: GPU (если доступен) или CPU\n",
    "\n",
    "# Создание экземпляра модели с заданными параметрами\n",
    "model = Model(VOCAB_SIZE, EMBEDDING_DIM, NUM_LAYERS, HIDDEN_DIM, OUT_CHANNELS, BIDIRECTIONAL, DEVICE)\n",
    "\n",
    "# Копирование весов эмбеддингов из заранее подготовленной матрицы\n",
    "model.embedding.weight.data.copy_(torch.from_numpy(embedding_vec))  # Заполняем веса слоя эмбеддингов\n",
    "\n",
    "# Разрешение обновления весов эмбеддингов в процессе обучения\n",
    "model.embedding.weight.requires_grad = True  # Эмбеддинги будут обновляться при обучении\n",
    "\n",
    "# Перенос модели на GPU, если доступен\n",
    "if torch.cuda.is_available():\n",
    "    model = model.cuda()  # Переносим модель на GPU\n"
   ]
  },
  {
   "cell_type": "code",
   "execution_count": 39,
   "id": "afed9a4f-e5b6-4afa-b994-6c77a086b621",
   "metadata": {
    "tags": []
   },
   "outputs": [
    {
     "name": "stdout",
     "output_type": "stream",
     "text": [
      "The Total number of parameters in the model :  11189996\n"
     ]
    }
   ],
   "source": [
    "# счетчик параметров модели\n",
    "param_count(model)"
   ]
  },
  {
   "cell_type": "code",
   "execution_count": 44,
   "id": "65df6e07-513d-4c71-8ece-2f2eb4c3a94c",
   "metadata": {
    "tags": []
   },
   "outputs": [
    {
     "data": {
      "application/vnd.jupyter.widget-view+json": {
       "model_id": "f9cdff8ea46b4cc087de968c3befb37f",
       "version_major": 2,
       "version_minor": 0
      },
      "text/plain": [
       "  0%|          | 0/10 [00:00<?, ?it/s]"
      ]
     },
     "metadata": {},
     "output_type": "display_data"
    },
    {
     "name": "stdout",
     "output_type": "stream",
     "text": [
      "Looked at 0/53040 samples.\n",
      "Looked at 32000/53040 samples.\n",
      "Epoch 1: Accuracy: 62.85%, Loss: 0.8929\n",
      "\n",
      "\n",
      "Looked at 0/53040 samples.\n",
      "Looked at 32000/53040 samples.\n",
      "Epoch 2: Accuracy: 89.53%, Loss: 0.3051\n",
      "\n",
      "\n",
      "Looked at 0/53040 samples.\n",
      "Looked at 32000/53040 samples.\n",
      "Epoch 3: Accuracy: 94.47%, Loss: 0.1610\n",
      "\n",
      "\n",
      "Looked at 0/53040 samples.\n",
      "Looked at 32000/53040 samples.\n",
      "Epoch 4: Accuracy: 96.14%, Loss: 0.1105\n",
      "\n",
      "\n",
      "Looked at 0/53040 samples.\n",
      "Looked at 32000/53040 samples.\n",
      "Epoch 5: Accuracy: 97.15%, Loss: 0.0827\n",
      "\n",
      "\n",
      "Looked at 0/53040 samples.\n",
      "Looked at 32000/53040 samples.\n",
      "Epoch 6: Accuracy: 97.66%, Loss: 0.0656\n",
      "\n",
      "\n",
      "Looked at 0/53040 samples.\n",
      "Looked at 32000/53040 samples.\n",
      "Epoch 7: Accuracy: 98.07%, Loss: 0.0532\n",
      "\n",
      "\n",
      "Looked at 0/53040 samples.\n",
      "Looked at 32000/53040 samples.\n",
      "Epoch 8: Accuracy: 98.34%, Loss: 0.0448\n",
      "\n",
      "\n",
      "Looked at 0/53040 samples.\n",
      "Looked at 32000/53040 samples.\n",
      "Epoch 9: Accuracy: 98.63%, Loss: 0.0394\n",
      "\n",
      "\n",
      "Looked at 0/53040 samples.\n",
      "Looked at 32000/53040 samples.\n",
      "Epoch 10: Accuracy: 98.79%, Loss: 0.0341\n",
      "\n",
      "\n"
     ]
    }
   ],
   "source": [
    "# Определение функции потерь и оптимизатора\n",
    "criterion = nn.CrossEntropyLoss()  # Функция потерь для многоклассовой классификации (перекрестная энтропия)\n",
    "optimizer = Adam(model.parameters(), lr=0.001)  # Оптимизатор Adam с заданной скоростью обучения\n",
    "\n",
    "# Установка количества эпох\n",
    "epochs = 10  # Количество эпох для обучения\n",
    "training_loss = []  # Список для хранения потерь на каждой эпохе\n",
    "training_acc = []  # Список для хранения точности на каждой эпохе\n",
    "\n",
    "# Цикл обучения\n",
    "for i in tqdm(range(epochs)):  # Процесс обучения на протяжении заданного числа эпох\n",
    "    epoch_loss = 0  # Суммарные потери за текущую эпоху\n",
    "    epoch_acc = 0  # Суммарная точность за текущую эпоху\n",
    "    for batch, (x_train, y_train) in enumerate(train_dataloader):  # Обработка данных по батчам\n",
    "        x_train, y_train = x_train.to(DEVICE), y_train.to(DEVICE)  # Перенос данных на устройство (GPU/CPU)\n",
    "        y_pred = model(x_train)  # Получаем предсказания модели\n",
    "\n",
    "        loss = criterion(y_pred, y_train)  # Вычисление потерь на основе функции потерь\n",
    "\n",
    "        if batch % 500 == 0:  # Каждые 500 батчей выводим информацию о процессе обучения\n",
    "            print(f\"Looked at {batch * len(x_train)}/{len(train_dataloader.dataset)} samples.\")  # Прогресс обучения\n",
    "\n",
    "        loss.backward()  # Обратный проход (вычисление градиентов)\n",
    "        optimizer.step()  # Обновление параметров модели на основе градиентов\n",
    "        optimizer.zero_grad()  # Обнуление градиентов для следующего шага\n",
    "\n",
    "        epoch_loss += loss  # Суммируем потери за всю эпоху\n",
    "        epoch_acc += accuracy_score(y_train.cpu(), y_pred.argmax(dim=1).cpu())  # Вычисляем точность на текущем батче\n",
    "\n",
    "    # Сохранение усредненных потерь и точности за эпоху\n",
    "    training_loss.append((epoch_loss / len(train_dataloader)).detach().cpu().numpy())  # Среднее значение потерь за эпоху\n",
    "    training_acc.append(epoch_acc / len(train_dataloader))  # Средняя точность за эпоху\n",
    "\n",
    "    # Вывод результатов обучения за текущую эпоху\n",
    "    print(f\"Epoch {i+1}: Accuracy: {(epoch_acc / len(train_dataloader)) * 100:.2f}%, Loss: {(epoch_loss / len(train_dataloader)):.4f}\\n\\n\")\n"
   ]
  },
  {
   "cell_type": "markdown",
   "id": "89a6048c-b946-4351-9c6a-04bbd9e980d8",
   "metadata": {},
   "source": [
    "## Время Prediction"
   ]
  },
  {
   "cell_type": "code",
   "execution_count": 46,
   "id": "cad25633-d40c-4499-9081-cae5963f24a0",
   "metadata": {
    "tags": []
   },
   "outputs": [
    {
     "name": "stdout",
     "output_type": "stream",
     "text": [
      "      0          1           2  \\\n",
      "0  3364   Facebook  Irrelevant   \n",
      "1   352     Amazon     Neutral   \n",
      "2  8312  Microsoft    Negative   \n",
      "3  4371      CS-GO    Negative   \n",
      "4  4433     Google     Neutral   \n",
      "\n",
      "                                                   3  \n",
      "0  I mentioned on Facebook that I was struggling ...  \n",
      "1  BBC News - Amazon boss Jeff Bezos rejects clai...  \n",
      "2  @Microsoft Why do I pay for WORD when it funct...  \n",
      "3  CSGO matchmaking is so full of closet hacking,...  \n",
      "4  Now the President is slapping Americans in the...  \n"
     ]
    },
    {
     "data": {
      "text/html": [
       "<div>\n",
       "<style scoped>\n",
       "    .dataframe tbody tr th:only-of-type {\n",
       "        vertical-align: middle;\n",
       "    }\n",
       "\n",
       "    .dataframe tbody tr th {\n",
       "        vertical-align: top;\n",
       "    }\n",
       "\n",
       "    .dataframe thead th {\n",
       "        text-align: right;\n",
       "    }\n",
       "</style>\n",
       "<table border=\"1\" class=\"dataframe\">\n",
       "  <thead>\n",
       "    <tr style=\"text-align: right;\">\n",
       "      <th></th>\n",
       "      <th>Feature2</th>\n",
       "      <th>labels</th>\n",
       "      <th>Feature1</th>\n",
       "    </tr>\n",
       "  </thead>\n",
       "  <tbody>\n",
       "    <tr>\n",
       "      <th>0</th>\n",
       "      <td>Facebook</td>\n",
       "      <td>Irrelevant</td>\n",
       "      <td>I mentioned on Facebook that I was struggling ...</td>\n",
       "    </tr>\n",
       "    <tr>\n",
       "      <th>1</th>\n",
       "      <td>Amazon</td>\n",
       "      <td>Neutral</td>\n",
       "      <td>BBC News - Amazon boss Jeff Bezos rejects clai...</td>\n",
       "    </tr>\n",
       "    <tr>\n",
       "      <th>2</th>\n",
       "      <td>Microsoft</td>\n",
       "      <td>Negative</td>\n",
       "      <td>@Microsoft Why do I pay for WORD when it funct...</td>\n",
       "    </tr>\n",
       "    <tr>\n",
       "      <th>3</th>\n",
       "      <td>CS-GO</td>\n",
       "      <td>Negative</td>\n",
       "      <td>CSGO matchmaking is so full of closet hacking,...</td>\n",
       "    </tr>\n",
       "    <tr>\n",
       "      <th>4</th>\n",
       "      <td>Google</td>\n",
       "      <td>Neutral</td>\n",
       "      <td>Now the President is slapping Americans in the...</td>\n",
       "    </tr>\n",
       "  </tbody>\n",
       "</table>\n",
       "</div>"
      ],
      "text/plain": [
       "    Feature2      labels                                           Feature1\n",
       "0   Facebook  Irrelevant  I mentioned on Facebook that I was struggling ...\n",
       "1     Amazon     Neutral  BBC News - Amazon boss Jeff Bezos rejects clai...\n",
       "2  Microsoft    Negative  @Microsoft Why do I pay for WORD when it funct...\n",
       "3      CS-GO    Negative  CSGO matchmaking is so full of closet hacking,...\n",
       "4     Google     Neutral  Now the President is slapping Americans in the..."
      ]
     },
     "execution_count": 46,
     "metadata": {},
     "output_type": "execute_result"
    }
   ],
   "source": [
    "# Загружаем тестовый набор данных из CSV файла\n",
    "test_df = pd.read_csv('twitter_validation.csv', header=None)\n",
    "print(test_df.head())  # Выводим первые 5 строк для проверки\n",
    "\n",
    "# Удаляем первый столбец (индексы)\n",
    "test_df = test_df.drop(0, axis=1)\n",
    "\n",
    "# Переименовываем столбцы для удобства\n",
    "test_df = test_df.rename(columns={1: \"Feature2\", 3: \"Feature1\", 2: \"labels\"})\n",
    "test_df.head()  # Проверяем изменения"
   ]
  },
  {
   "cell_type": "code",
   "execution_count": 47,
   "id": "52e5e398-a443-46a4-bcdb-c848d628de78",
   "metadata": {
    "tags": []
   },
   "outputs": [],
   "source": [
    "# Объединяем тексты из двух столбцов в один столбец \"tweets\"\n",
    "test_df[\"tweets\"] = test_df[\"Feature1\"].astype(str) + \" \" + test_df[\"Feature2\"].astype(str)\n",
    "\n",
    "# Удаляем старые столбцы Feature1 и Feature2\n",
    "test_df = test_df.drop([\"Feature1\", \"Feature2\"], axis=1)"
   ]
  },
  {
   "cell_type": "code",
   "execution_count": 48,
   "id": "4b16d583-63b3-4e18-8f32-beb87b25172f",
   "metadata": {
    "tags": []
   },
   "outputs": [
    {
     "data": {
      "text/html": [
       "<div>\n",
       "<style scoped>\n",
       "    .dataframe tbody tr th:only-of-type {\n",
       "        vertical-align: middle;\n",
       "    }\n",
       "\n",
       "    .dataframe tbody tr th {\n",
       "        vertical-align: top;\n",
       "    }\n",
       "\n",
       "    .dataframe thead th {\n",
       "        text-align: right;\n",
       "    }\n",
       "</style>\n",
       "<table border=\"1\" class=\"dataframe\">\n",
       "  <thead>\n",
       "    <tr style=\"text-align: right;\">\n",
       "      <th></th>\n",
       "      <th>labels</th>\n",
       "      <th>tweets</th>\n",
       "    </tr>\n",
       "  </thead>\n",
       "  <tbody>\n",
       "    <tr>\n",
       "      <th>0</th>\n",
       "      <td>Irrelevant</td>\n",
       "      <td>I mentioned on Facebook that I was struggling ...</td>\n",
       "    </tr>\n",
       "    <tr>\n",
       "      <th>1</th>\n",
       "      <td>Neutral</td>\n",
       "      <td>BBC News - Amazon boss Jeff Bezos rejects clai...</td>\n",
       "    </tr>\n",
       "    <tr>\n",
       "      <th>2</th>\n",
       "      <td>Negative</td>\n",
       "      <td>@Microsoft Why do I pay for WORD when it funct...</td>\n",
       "    </tr>\n",
       "    <tr>\n",
       "      <th>3</th>\n",
       "      <td>Negative</td>\n",
       "      <td>CSGO matchmaking is so full of closet hacking,...</td>\n",
       "    </tr>\n",
       "    <tr>\n",
       "      <th>4</th>\n",
       "      <td>Neutral</td>\n",
       "      <td>Now the President is slapping Americans in the...</td>\n",
       "    </tr>\n",
       "  </tbody>\n",
       "</table>\n",
       "</div>"
      ],
      "text/plain": [
       "       labels                                             tweets\n",
       "0  Irrelevant  I mentioned on Facebook that I was struggling ...\n",
       "1     Neutral  BBC News - Amazon boss Jeff Bezos rejects clai...\n",
       "2    Negative  @Microsoft Why do I pay for WORD when it funct...\n",
       "3    Negative  CSGO matchmaking is so full of closet hacking,...\n",
       "4     Neutral  Now the President is slapping Americans in the..."
      ]
     },
     "execution_count": 48,
     "metadata": {},
     "output_type": "execute_result"
    }
   ],
   "source": [
    "test_df.head()"
   ]
  },
  {
   "cell_type": "code",
   "execution_count": 49,
   "id": "488b7c6e-21fa-4b56-ac0c-10a016832770",
   "metadata": {
    "tags": []
   },
   "outputs": [
    {
     "data": {
      "application/vnd.jupyter.widget-view+json": {
       "model_id": "ff9f4c884dc94d68bb2e5b60ac0e1ccb",
       "version_major": 2,
       "version_minor": 0
      },
      "text/plain": [
       "0it [00:00, ?it/s]"
      ]
     },
     "metadata": {},
     "output_type": "display_data"
    },
    {
     "data": {
      "application/vnd.jupyter.widget-view+json": {
       "model_id": "8391127d462f44b9b0361eede4bcec4d",
       "version_major": 2,
       "version_minor": 0
      },
      "text/plain": [
       "  0%|          | 0/2 [00:00<?, ?it/s]"
      ]
     },
     "metadata": {},
     "output_type": "display_data"
    },
    {
     "name": "stdout",
     "output_type": "stream",
     "text": [
      "The original tweet : Remote working and an increase in cloud-based data is spurring cyber-attacks: Today sees the publication of the Verizon Business 2020 Data Breach Investigations Report which shows that network security is even more important ... dlvr.it/RX3fdK EXETLOS Verizon\n",
      "\n",
      "The original label : Positive\n",
      "\n",
      "The lstm prediction is : Negative\n",
      "\n",
      "------------------------------------------------------------------------------------------------------------------------\n",
      "The original tweet : I actually quite like the design of the ps5. It truly feels like the next generation of a console rather than just being a bulkier box with more power PlayStation5(PS5)\n",
      "\n",
      "The original label : Positive\n",
      "\n",
      "The lstm prediction is : Negative\n",
      "\n",
      "------------------------------------------------------------------------------------------------------------------------\n",
      "Accuracy of predictions: 0.20\n"
     ]
    }
   ],
   "source": [
    "from sklearn.feature_extraction.text import TfidfVectorizer\n",
    "\n",
    "# Создание векторизатора TF-IDF для преобразования текста в числовые векторы\n",
    "vec = TfidfVectorizer(max_features=5000)  # Ограничиваем количество признаков (максимум 5000)\n",
    "\n",
    "# Обучаем векторизатор на обучающих данных\n",
    "vec.fit(df['tweets'])  # Преобразуем тексты твитов в векторы TF-IDF\n",
    "\n",
    "# Функция для выполнения предсказаний на случайных твитах\n",
    "def make_predictions(row):\n",
    "    # Случайным образом выбираем 10 твитов из тестового набора\n",
    "    random_data = row.sample(n=10, random_state=42)  # Фиксируем random_state для воспроизводимости результатов\n",
    "    random_tweets = random_data['tweets'].values  # Извлекаем текстовые данные твитов\n",
    "\n",
    "    # Очищаем текст твитов перед преобразованием в векторы\n",
    "    cleaned_tweets = [DataPrep(tweet) for tweet in random_tweets]  # Используем list comprehension для удобства\n",
    "\n",
    "    # Преобразуем очищенные твиты в векторы с помощью обученного векторизатора\n",
    "    x_test = vec.transform(cleaned_tweets).toarray()  # Преобразуем текст в числовые векторы\n",
    "\n",
    "    # Извлекаем истинные метки классов для сравнения с предсказаниями\n",
    "    y_test = random_data['labels'].values  # Истинные метки классов твитов\n",
    "\n",
    "    # Подготавливаем данные для подачи в LSTM модель\n",
    "    _, X_test = lstm_prep(cleaned_tweets, MAX_LEN)  # Преобразуем текст в формат, подходящий для LSTM\n",
    "    X_test = torch.from_numpy(X_test).to(DEVICE)  # Переводим данные в тензор и отправляем на нужное устройство\n",
    "\n",
    "    # Получаем предсказания от LSTM модели\n",
    "    lstm_pred = model(X_test)  # Получаем предсказания из модели\n",
    "    lstm_pred = torch.softmax(lstm_pred, dim=1).argmax(dim=1)  # Применяем softmax для вероятностей и выбираем класс с наибольшей вероятностью\n",
    "\n",
    "    # Преобразуем индексы предсказанных классов обратно в метки\n",
    "    pred = np.array([getlabel(lstm_pred[i]) for i in range(len(lstm_pred))])\n",
    "\n",
    "    # Выводим оригинальные твиты, их метки и предсказания модели\n",
    "    for i in tqdm(range(2)):  # Ограничиваем вывод первых двух твитов для примера\n",
    "        print(f\"The original tweet : {random_tweets[i]}\\n\")  # Оригинальный текст твита\n",
    "        print(f\"The original label : {y_test[i]}\\n\")  # Истинная метка для твита\n",
    "        print(f\"The lstm prediction is : {getlabel(lstm_pred[i])}\\n\")  # Предсказанная моделью метка\n",
    "        print('-' * 120)  # Разделитель для улучшения читаемости\n",
    "\n",
    "    # Вычисляем и выводим точность предсказаний\n",
    "    accuracy = accuracy_score(pred, y_test)  # Сравниваем предсказанные и истинные метки\n",
    "    print(f'Accuracy of predictions: {accuracy:.2f}')  # Выводим точность предсказаний с двумя знаками после запятой\n",
    "\n",
    "# Вызов функции для выполнения предсказаний на тестовом наборе данных\n",
    "make_predictions(test_df)\n"
   ]
  },
  {
   "cell_type": "markdown",
   "id": "ad62011a-cd59-442a-8133-4e61b75ecccc",
   "metadata": {},
   "source": [
    "## Что дальше?\n",
    "\n",
    "Попытайтесь улучшить модель (попробуйте GRU), изменить подход к токенизации данных и так далее, удачи!"
   ]
  }
 ],
 "metadata": {
  "kernelspec": {
   "display_name": "Python 3",
   "language": "python",
   "name": "python3"
  },
  "language_info": {
   "codemirror_mode": {
    "name": "ipython",
    "version": 3
   },
   "file_extension": ".py",
   "mimetype": "text/x-python",
   "name": "python",
   "nbconvert_exporter": "python",
   "pygments_lexer": "ipython3",
   "version": "3.11.9"
  }
 },
 "nbformat": 4,
 "nbformat_minor": 5
}
